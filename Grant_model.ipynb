{
  "nbformat": 4,
  "nbformat_minor": 0,
  "metadata": {
    "colab": {
      "provenance": []
    },
    "kernelspec": {
      "name": "python3",
      "display_name": "Python 3"
    },
    "language_info": {
      "name": "python"
    }
  },
  "cells": [
    {
      "cell_type": "code",
      "execution_count": null,
      "metadata": {
        "id": "1UcQIQCLZpOd"
      },
      "outputs": [],
      "source": [
        "import pandas as pd\n",
        "from sklearn.metrics import mean_absolute_error, mean_squared_error\n",
        "\n",
        "data = pd.read_csv('ITIS_DATASET_GRANT1000.csv')"
      ]
    },
    {
      "cell_type": "code",
      "source": [
        "data.head()"
      ],
      "metadata": {
        "colab": {
          "base_uri": "https://localhost:8080/",
          "height": 206
        },
        "id": "62L0pcsZafj7",
        "outputId": "5fc80f2d-fe98-48dd-84b1-61e4f1565dc3"
      },
      "execution_count": null,
      "outputs": [
        {
          "output_type": "execute_result",
          "data": {
            "text/plain": [
              "   Средний балл успеваемости на курсе  Количество мест на грант  \\\n",
              "0                           77.440675                        36   \n",
              "1                           85.759468                        39   \n",
              "2                           80.138169                        37   \n",
              "3                           77.244159                        39   \n",
              "4                           71.182740                        39   \n",
              "\n",
              "   Количество студентов подавших заявление на грант  \\\n",
              "0                                                59   \n",
              "1                                                84   \n",
              "2                                                80   \n",
              "3                                                51   \n",
              "4                                                88   \n",
              "\n",
              "   Минимальный балл прохождения на грант  \n",
              "0                                     71  \n",
              "1                                     75  \n",
              "2                                     71  \n",
              "3                                     71  \n",
              "4                                     71  "
            ],
            "text/html": [
              "\n",
              "  <div id=\"df-456ec6e0-db9e-4939-8ff1-37a367d608b6\" class=\"colab-df-container\">\n",
              "    <div>\n",
              "<style scoped>\n",
              "    .dataframe tbody tr th:only-of-type {\n",
              "        vertical-align: middle;\n",
              "    }\n",
              "\n",
              "    .dataframe tbody tr th {\n",
              "        vertical-align: top;\n",
              "    }\n",
              "\n",
              "    .dataframe thead th {\n",
              "        text-align: right;\n",
              "    }\n",
              "</style>\n",
              "<table border=\"1\" class=\"dataframe\">\n",
              "  <thead>\n",
              "    <tr style=\"text-align: right;\">\n",
              "      <th></th>\n",
              "      <th>Средний балл успеваемости на курсе</th>\n",
              "      <th>Количество мест на грант</th>\n",
              "      <th>Количество студентов подавших заявление на грант</th>\n",
              "      <th>Минимальный балл прохождения на грант</th>\n",
              "    </tr>\n",
              "  </thead>\n",
              "  <tbody>\n",
              "    <tr>\n",
              "      <th>0</th>\n",
              "      <td>77.440675</td>\n",
              "      <td>36</td>\n",
              "      <td>59</td>\n",
              "      <td>71</td>\n",
              "    </tr>\n",
              "    <tr>\n",
              "      <th>1</th>\n",
              "      <td>85.759468</td>\n",
              "      <td>39</td>\n",
              "      <td>84</td>\n",
              "      <td>75</td>\n",
              "    </tr>\n",
              "    <tr>\n",
              "      <th>2</th>\n",
              "      <td>80.138169</td>\n",
              "      <td>37</td>\n",
              "      <td>80</td>\n",
              "      <td>71</td>\n",
              "    </tr>\n",
              "    <tr>\n",
              "      <th>3</th>\n",
              "      <td>77.244159</td>\n",
              "      <td>39</td>\n",
              "      <td>51</td>\n",
              "      <td>71</td>\n",
              "    </tr>\n",
              "    <tr>\n",
              "      <th>4</th>\n",
              "      <td>71.182740</td>\n",
              "      <td>39</td>\n",
              "      <td>88</td>\n",
              "      <td>71</td>\n",
              "    </tr>\n",
              "  </tbody>\n",
              "</table>\n",
              "</div>\n",
              "    <div class=\"colab-df-buttons\">\n",
              "\n",
              "  <div class=\"colab-df-container\">\n",
              "    <button class=\"colab-df-convert\" onclick=\"convertToInteractive('df-456ec6e0-db9e-4939-8ff1-37a367d608b6')\"\n",
              "            title=\"Convert this dataframe to an interactive table.\"\n",
              "            style=\"display:none;\">\n",
              "\n",
              "  <svg xmlns=\"http://www.w3.org/2000/svg\" height=\"24px\" viewBox=\"0 -960 960 960\">\n",
              "    <path d=\"M120-120v-720h720v720H120Zm60-500h600v-160H180v160Zm220 220h160v-160H400v160Zm0 220h160v-160H400v160ZM180-400h160v-160H180v160Zm440 0h160v-160H620v160ZM180-180h160v-160H180v160Zm440 0h160v-160H620v160Z\"/>\n",
              "  </svg>\n",
              "    </button>\n",
              "\n",
              "  <style>\n",
              "    .colab-df-container {\n",
              "      display:flex;\n",
              "      gap: 12px;\n",
              "    }\n",
              "\n",
              "    .colab-df-convert {\n",
              "      background-color: #E8F0FE;\n",
              "      border: none;\n",
              "      border-radius: 50%;\n",
              "      cursor: pointer;\n",
              "      display: none;\n",
              "      fill: #1967D2;\n",
              "      height: 32px;\n",
              "      padding: 0 0 0 0;\n",
              "      width: 32px;\n",
              "    }\n",
              "\n",
              "    .colab-df-convert:hover {\n",
              "      background-color: #E2EBFA;\n",
              "      box-shadow: 0px 1px 2px rgba(60, 64, 67, 0.3), 0px 1px 3px 1px rgba(60, 64, 67, 0.15);\n",
              "      fill: #174EA6;\n",
              "    }\n",
              "\n",
              "    .colab-df-buttons div {\n",
              "      margin-bottom: 4px;\n",
              "    }\n",
              "\n",
              "    [theme=dark] .colab-df-convert {\n",
              "      background-color: #3B4455;\n",
              "      fill: #D2E3FC;\n",
              "    }\n",
              "\n",
              "    [theme=dark] .colab-df-convert:hover {\n",
              "      background-color: #434B5C;\n",
              "      box-shadow: 0px 1px 3px 1px rgba(0, 0, 0, 0.15);\n",
              "      filter: drop-shadow(0px 1px 2px rgba(0, 0, 0, 0.3));\n",
              "      fill: #FFFFFF;\n",
              "    }\n",
              "  </style>\n",
              "\n",
              "    <script>\n",
              "      const buttonEl =\n",
              "        document.querySelector('#df-456ec6e0-db9e-4939-8ff1-37a367d608b6 button.colab-df-convert');\n",
              "      buttonEl.style.display =\n",
              "        google.colab.kernel.accessAllowed ? 'block' : 'none';\n",
              "\n",
              "      async function convertToInteractive(key) {\n",
              "        const element = document.querySelector('#df-456ec6e0-db9e-4939-8ff1-37a367d608b6');\n",
              "        const dataTable =\n",
              "          await google.colab.kernel.invokeFunction('convertToInteractive',\n",
              "                                                    [key], {});\n",
              "        if (!dataTable) return;\n",
              "\n",
              "        const docLinkHtml = 'Like what you see? Visit the ' +\n",
              "          '<a target=\"_blank\" href=https://colab.research.google.com/notebooks/data_table.ipynb>data table notebook</a>'\n",
              "          + ' to learn more about interactive tables.';\n",
              "        element.innerHTML = '';\n",
              "        dataTable['output_type'] = 'display_data';\n",
              "        await google.colab.output.renderOutput(dataTable, element);\n",
              "        const docLink = document.createElement('div');\n",
              "        docLink.innerHTML = docLinkHtml;\n",
              "        element.appendChild(docLink);\n",
              "      }\n",
              "    </script>\n",
              "  </div>\n",
              "\n",
              "\n",
              "<div id=\"df-1f1c4725-09ea-4dbf-8f1c-41dc31c9f54a\">\n",
              "  <button class=\"colab-df-quickchart\" onclick=\"quickchart('df-1f1c4725-09ea-4dbf-8f1c-41dc31c9f54a')\"\n",
              "            title=\"Suggest charts\"\n",
              "            style=\"display:none;\">\n",
              "\n",
              "<svg xmlns=\"http://www.w3.org/2000/svg\" height=\"24px\"viewBox=\"0 0 24 24\"\n",
              "     width=\"24px\">\n",
              "    <g>\n",
              "        <path d=\"M19 3H5c-1.1 0-2 .9-2 2v14c0 1.1.9 2 2 2h14c1.1 0 2-.9 2-2V5c0-1.1-.9-2-2-2zM9 17H7v-7h2v7zm4 0h-2V7h2v10zm4 0h-2v-4h2v4z\"/>\n",
              "    </g>\n",
              "</svg>\n",
              "  </button>\n",
              "\n",
              "<style>\n",
              "  .colab-df-quickchart {\n",
              "      --bg-color: #E8F0FE;\n",
              "      --fill-color: #1967D2;\n",
              "      --hover-bg-color: #E2EBFA;\n",
              "      --hover-fill-color: #174EA6;\n",
              "      --disabled-fill-color: #AAA;\n",
              "      --disabled-bg-color: #DDD;\n",
              "  }\n",
              "\n",
              "  [theme=dark] .colab-df-quickchart {\n",
              "      --bg-color: #3B4455;\n",
              "      --fill-color: #D2E3FC;\n",
              "      --hover-bg-color: #434B5C;\n",
              "      --hover-fill-color: #FFFFFF;\n",
              "      --disabled-bg-color: #3B4455;\n",
              "      --disabled-fill-color: #666;\n",
              "  }\n",
              "\n",
              "  .colab-df-quickchart {\n",
              "    background-color: var(--bg-color);\n",
              "    border: none;\n",
              "    border-radius: 50%;\n",
              "    cursor: pointer;\n",
              "    display: none;\n",
              "    fill: var(--fill-color);\n",
              "    height: 32px;\n",
              "    padding: 0;\n",
              "    width: 32px;\n",
              "  }\n",
              "\n",
              "  .colab-df-quickchart:hover {\n",
              "    background-color: var(--hover-bg-color);\n",
              "    box-shadow: 0 1px 2px rgba(60, 64, 67, 0.3), 0 1px 3px 1px rgba(60, 64, 67, 0.15);\n",
              "    fill: var(--button-hover-fill-color);\n",
              "  }\n",
              "\n",
              "  .colab-df-quickchart-complete:disabled,\n",
              "  .colab-df-quickchart-complete:disabled:hover {\n",
              "    background-color: var(--disabled-bg-color);\n",
              "    fill: var(--disabled-fill-color);\n",
              "    box-shadow: none;\n",
              "  }\n",
              "\n",
              "  .colab-df-spinner {\n",
              "    border: 2px solid var(--fill-color);\n",
              "    border-color: transparent;\n",
              "    border-bottom-color: var(--fill-color);\n",
              "    animation:\n",
              "      spin 1s steps(1) infinite;\n",
              "  }\n",
              "\n",
              "  @keyframes spin {\n",
              "    0% {\n",
              "      border-color: transparent;\n",
              "      border-bottom-color: var(--fill-color);\n",
              "      border-left-color: var(--fill-color);\n",
              "    }\n",
              "    20% {\n",
              "      border-color: transparent;\n",
              "      border-left-color: var(--fill-color);\n",
              "      border-top-color: var(--fill-color);\n",
              "    }\n",
              "    30% {\n",
              "      border-color: transparent;\n",
              "      border-left-color: var(--fill-color);\n",
              "      border-top-color: var(--fill-color);\n",
              "      border-right-color: var(--fill-color);\n",
              "    }\n",
              "    40% {\n",
              "      border-color: transparent;\n",
              "      border-right-color: var(--fill-color);\n",
              "      border-top-color: var(--fill-color);\n",
              "    }\n",
              "    60% {\n",
              "      border-color: transparent;\n",
              "      border-right-color: var(--fill-color);\n",
              "    }\n",
              "    80% {\n",
              "      border-color: transparent;\n",
              "      border-right-color: var(--fill-color);\n",
              "      border-bottom-color: var(--fill-color);\n",
              "    }\n",
              "    90% {\n",
              "      border-color: transparent;\n",
              "      border-bottom-color: var(--fill-color);\n",
              "    }\n",
              "  }\n",
              "</style>\n",
              "\n",
              "  <script>\n",
              "    async function quickchart(key) {\n",
              "      const quickchartButtonEl =\n",
              "        document.querySelector('#' + key + ' button');\n",
              "      quickchartButtonEl.disabled = true;  // To prevent multiple clicks.\n",
              "      quickchartButtonEl.classList.add('colab-df-spinner');\n",
              "      try {\n",
              "        const charts = await google.colab.kernel.invokeFunction(\n",
              "            'suggestCharts', [key], {});\n",
              "      } catch (error) {\n",
              "        console.error('Error during call to suggestCharts:', error);\n",
              "      }\n",
              "      quickchartButtonEl.classList.remove('colab-df-spinner');\n",
              "      quickchartButtonEl.classList.add('colab-df-quickchart-complete');\n",
              "    }\n",
              "    (() => {\n",
              "      let quickchartButtonEl =\n",
              "        document.querySelector('#df-1f1c4725-09ea-4dbf-8f1c-41dc31c9f54a button');\n",
              "      quickchartButtonEl.style.display =\n",
              "        google.colab.kernel.accessAllowed ? 'block' : 'none';\n",
              "    })();\n",
              "  </script>\n",
              "</div>\n",
              "    </div>\n",
              "  </div>\n"
            ],
            "application/vnd.google.colaboratory.intrinsic+json": {
              "type": "dataframe",
              "variable_name": "data",
              "summary": "{\n  \"name\": \"data\",\n  \"rows\": 1000,\n  \"fields\": [\n    {\n      \"column\": \"\\u0421\\u0440\\u0435\\u0434\\u043d\\u0438\\u0439 \\u0431\\u0430\\u043b\\u043b \\u0443\\u0441\\u043f\\u0435\\u0432\\u0430\\u0435\\u043c\\u043e\\u0441\\u0442\\u0438 \\u043d\\u0430 \\u043a\\u0443\\u0440\\u0441\\u0435\",\n      \"properties\": {\n        \"dtype\": \"number\",\n        \"std\": 14.537212502342381,\n        \"min\": 50.02729824484978,\n        \"max\": 99.99042890584826,\n        \"num_unique_values\": 1000,\n        \"samples\": [\n          64.13498254727683,\n          76.218990553861,\n          52.34031773560944\n        ],\n        \"semantic_type\": \"\",\n        \"description\": \"\"\n      }\n    },\n    {\n      \"column\": \"\\u041a\\u043e\\u043b\\u0438\\u0447\\u0435\\u0441\\u0442\\u0432\\u043e \\u043c\\u0435\\u0441\\u0442 \\u043d\\u0430 \\u0433\\u0440\\u0430\\u043d\\u0442\",\n      \"properties\": {\n        \"dtype\": \"number\",\n        \"std\": 1,\n        \"min\": 35,\n        \"max\": 39,\n        \"num_unique_values\": 5,\n        \"samples\": [\n          39,\n          35,\n          37\n        ],\n        \"semantic_type\": \"\",\n        \"description\": \"\"\n      }\n    },\n    {\n      \"column\": \"\\u041a\\u043e\\u043b\\u0438\\u0447\\u0435\\u0441\\u0442\\u0432\\u043e \\u0441\\u0442\\u0443\\u0434\\u0435\\u043d\\u0442\\u043e\\u0432 \\u043f\\u043e\\u0434\\u0430\\u0432\\u0448\\u0438\\u0445 \\u0437\\u0430\\u044f\\u0432\\u043b\\u0435\\u043d\\u0438\\u0435 \\u043d\\u0430 \\u0433\\u0440\\u0430\\u043d\\u0442\",\n      \"properties\": {\n        \"dtype\": \"number\",\n        \"std\": 15,\n        \"min\": 50,\n        \"max\": 99,\n        \"num_unique_values\": 50,\n        \"samples\": [\n          79,\n          94,\n          90\n        ],\n        \"semantic_type\": \"\",\n        \"description\": \"\"\n      }\n    },\n    {\n      \"column\": \"\\u041c\\u0438\\u043d\\u0438\\u043c\\u0430\\u043b\\u044c\\u043d\\u044b\\u0439 \\u0431\\u0430\\u043b\\u043b \\u043f\\u0440\\u043e\\u0445\\u043e\\u0436\\u0434\\u0435\\u043d\\u0438\\u044f \\u043d\\u0430 \\u0433\\u0440\\u0430\\u043d\\u0442\",\n      \"properties\": {\n        \"dtype\": \"number\",\n        \"std\": 3,\n        \"min\": 71,\n        \"max\": 85,\n        \"num_unique_values\": 15,\n        \"samples\": [\n          84,\n          85,\n          71\n        ],\n        \"semantic_type\": \"\",\n        \"description\": \"\"\n      }\n    }\n  ]\n}"
            }
          },
          "metadata": {},
          "execution_count": 2
        }
      ]
    },
    {
      "cell_type": "code",
      "source": [
        "from sklearn.model_selection import train_test_split\n",
        "\n",
        "X = data.drop(columns=['Минимальный балл прохождения на грант'])\n",
        "y = data['Минимальный балл прохождения на грант']\n",
        "\n",
        "X_train, X_test, y_train, y_test = train_test_split(X, y, test_size=0.2, random_state=42)"
      ],
      "metadata": {
        "id": "e6cJiNXTbDIw"
      },
      "execution_count": null,
      "outputs": []
    },
    {
      "cell_type": "markdown",
      "source": [
        "# Линейная регрессия"
      ],
      "metadata": {
        "id": "3Bm6iKQlbKtp"
      }
    },
    {
      "cell_type": "code",
      "source": [
        "from sklearn.linear_model import LinearRegression\n",
        "from sklearn.metrics import mean_squared_error, r2_score\n",
        "\n",
        "linear_reg_model = LinearRegression()\n",
        "linear_reg_model.fit(X_train, y_train)\n",
        "\n",
        "y_pred_linear_reg = linear_reg_model.predict(X_test)\n",
        "\n",
        "mse_linear_reg = mean_squared_error(y_test, y_pred_linear_reg)\n",
        "r2_linear_reg = r2_score(y_test, y_pred_linear_reg)\n",
        "mae_linear_reg = mean_absolute_error(y_test, y_pred_linear_reg)\n",
        "rmse_linear_reg = mean_squared_error(y_test, y_pred_linear_reg, squared=False)\n",
        "print(\"Модель линейной регрессии:\")\n",
        "print(\"Среднеквадратичная ошибка (MSE):\", mse_linear_reg)\n",
        "print(\"Коэффициент детерминации (R^2):\", r2_linear_reg)\n",
        "print(\"Средняя абсолютная ошибка (MAE):\", mae_linear_reg)\n",
        "print(\"Корень из среднеквадратичной ошибки (RMSE):\", rmse_linear_reg)"
      ],
      "metadata": {
        "colab": {
          "base_uri": "https://localhost:8080/"
        },
        "id": "VKBqCYFjbM6R",
        "outputId": "7274e3ff-8b32-4224-ed4f-700db5d63f92"
      },
      "execution_count": null,
      "outputs": [
        {
          "output_type": "stream",
          "name": "stdout",
          "text": [
            "Модель линейной регрессии:\n",
            "Среднеквадратичная ошибка (MSE): 4.966621376159258\n",
            "Коэффициент детерминации (R^2): 0.5774661454854675\n",
            "Средняя абсолютная ошибка (MAE): 1.7648836313437806\n",
            "Корень из среднеквадратичной ошибки (RMSE): 2.2285917921771268\n"
          ]
        }
      ]
    },
    {
      "cell_type": "markdown",
      "source": [
        "# Случайный лес\n"
      ],
      "metadata": {
        "id": "YyICYGRkbc5L"
      }
    },
    {
      "cell_type": "code",
      "source": [
        "from sklearn.ensemble import RandomForestRegressor\n",
        "\n",
        "random_forest_model = RandomForestRegressor(random_state=42)\n",
        "random_forest_model.fit(X_train, y_train)\n",
        "\n",
        "y_pred_random_forest = random_forest_model.predict(X_test)\n",
        "\n",
        "mse_random_forest = mean_squared_error(y_test, y_pred_random_forest)\n",
        "r2_random_forest = r2_score(y_test, y_pred_random_forest)\n",
        "mae_random_forest = mean_absolute_error(y_test, y_pred_random_forest)\n",
        "rmse_random_forest = mean_squared_error(y_test, y_pred_random_forest, squared=False)\n",
        "print(\"Модель случайного леса:\")\n",
        "print(\"Среднеквадратичная ошибка (MSE):\", mse_random_forest)\n",
        "print(\"Коэффициент детерминации (R^2):\", r2_random_forest)\n",
        "print(\"Средняя абсолютная ошибка (MAE):\", mae_random_forest)\n",
        "print(\"Корень из среднеквадратичной ошибки (RMSE):\", rmse_random_forest)"
      ],
      "metadata": {
        "colab": {
          "base_uri": "https://localhost:8080/"
        },
        "id": "jrhp1LQIboGT",
        "outputId": "78d8023d-0781-4c2d-8c2d-55af570bc443"
      },
      "execution_count": null,
      "outputs": [
        {
          "output_type": "stream",
          "name": "stdout",
          "text": [
            "Модель случайного леса:\n",
            "Среднеквадратичная ошибка (MSE): 0.1353689999999996\n",
            "Коэффициент детерминации (R^2): 0.9884835220928379\n",
            "Средняя абсолютная ошибка (MAE): 0.17669999999999966\n",
            "Корень из среднеквадратичной ошибки (RMSE): 0.367925264150207\n"
          ]
        }
      ]
    },
    {
      "cell_type": "code",
      "source": [
        "import joblib\n",
        "\n",
        "joblib.dump(random_forest_model, 'random_forest_model.pkl')\n"
      ],
      "metadata": {
        "colab": {
          "base_uri": "https://localhost:8080/"
        },
        "id": "qPdlsbRgT4Qp",
        "outputId": "45729806-bddd-4c4a-8f43-11d0a941b801"
      },
      "execution_count": null,
      "outputs": [
        {
          "output_type": "execute_result",
          "data": {
            "text/plain": [
              "['random_forest_model.pkl']"
            ]
          },
          "metadata": {},
          "execution_count": 8
        }
      ]
    },
    {
      "cell_type": "markdown",
      "source": [
        "# K ближайших соседей"
      ],
      "metadata": {
        "id": "wQRmhP46bs4c"
      }
    },
    {
      "cell_type": "code",
      "source": [
        "from sklearn.neighbors import KNeighborsRegressor\n",
        "\n",
        "knn_model = KNeighborsRegressor()\n",
        "knn_model.fit(X_train, y_train)\n",
        "\n",
        "y_pred_knn = knn_model.predict(X_test)\n",
        "\n",
        "mae_knn = mean_absolute_error(y_test, y_pred_knn)\n",
        "rmse_knn = mean_squared_error(y_test, y_pred_knn, squared=False)\n",
        "mse_knn = mean_squared_error(y_test, y_pred_knn)\n",
        "r2_knn = r2_score(y_test, y_pred_knn)\n",
        "\n",
        "print(\"Модель K ближайших соседей:\")\n",
        "print(\"Среднеквадратичная ошибка (MSE):\", mse_knn)\n",
        "print(\"Коэффициент детерминации (R^2):\", r2_knn)\n",
        "print(\"Средняя абсолютная ошибка (MAE):\", mae_knn)\n",
        "print(\"Корень из среднеквадратичной ошибки (RMSE):\", rmse_knn)\n"
      ],
      "metadata": {
        "colab": {
          "base_uri": "https://localhost:8080/"
        },
        "id": "_IoUDU2vbxji",
        "outputId": "cc5c4827-9f1b-4393-a5ca-fdaeffabdeca"
      },
      "execution_count": null,
      "outputs": [
        {
          "output_type": "stream",
          "name": "stdout",
          "text": [
            "Модель K ближайших соседей:\n",
            "Среднеквадратичная ошибка (MSE): 0.10560000000000008\n",
            "Коэффициент детерминации (R^2): 0.9910161110224917\n",
            "Средняя абсолютная ошибка (MAE): 0.15000000000000036\n",
            "Корень из среднеквадратичной ошибки (RMSE): 0.32496153618543855\n"
          ]
        }
      ]
    },
    {
      "cell_type": "code",
      "source": [
        "import torch\n",
        "import torch.nn as nn\n",
        "from sklearn.metrics import mean_squared_error, mean_absolute_error\n",
        "\n",
        "class NeuralNetwork(nn.Module):\n",
        "    def __init__(self, input_size):\n",
        "        super(NeuralNetwork, self).__init__()\n",
        "        self.fc1 = nn.Linear(input_size, 64)\n",
        "        self.fc2 = nn.Linear(64, 32)\n",
        "        self.fc3 = nn.Linear(32, 1)\n",
        "\n",
        "    def forward(self, x):\n",
        "        x = torch.relu(self.fc1(x))\n",
        "        x = torch.relu(self.fc2(x))\n",
        "        x = self.fc3(x)\n",
        "        return x\n",
        "\n",
        "input_size = X_train.shape[1]\n",
        "model = NeuralNetwork(input_size)\n",
        "\n",
        "criterion = nn.MSELoss()\n",
        "\n",
        "def evaluate_model(model, criterion, X_test, y_test):\n",
        "    model.eval()\n",
        "    with torch.no_grad():\n",
        "        outputs = model(X_test)\n",
        "        test_loss = criterion(outputs, y_test)\n",
        "        mse = mean_squared_error(y_test.numpy(), outputs.numpy())\n",
        "        mae = mean_absolute_error(y_test.numpy(), outputs.numpy())\n",
        "        rmse = mean_squared_error(y_test.numpy(), outputs.numpy(), squared=False)\n",
        "    print(f'Test Loss (MSE): {test_loss.item():.4f}')\n",
        "    print(f'Mean Absolute Error (MAE): {mae:.4f}')\n",
        "    print(f'Root Mean Squared Error (RMSE): {rmse:.4f}')\n",
        "\n",
        "evaluate_model(model, criterion, X_test_tensor, y_test_tensor)\n"
      ],
      "metadata": {
        "colab": {
          "base_uri": "https://localhost:8080/"
        },
        "id": "e_IZeoJIgPOP",
        "outputId": "0936bce9-055e-48cd-c35e-9c0bfa156e66"
      },
      "execution_count": null,
      "outputs": [
        {
          "output_type": "stream",
          "name": "stdout",
          "text": [
            "Test Loss (MSE): 5277.8750\n",
            "Mean Absolute Error (MAE): 72.5680\n",
            "Root Mean Squared Error (RMSE): 72.6481\n"
          ]
        },
        {
          "output_type": "stream",
          "name": "stderr",
          "text": [
            "/usr/local/lib/python3.10/dist-packages/torch/nn/modules/loss.py:535: UserWarning: Using a target size (torch.Size([200])) that is different to the input size (torch.Size([200, 1])). This will likely lead to incorrect results due to broadcasting. Please ensure they have the same size.\n",
            "  return F.mse_loss(input, target, reduction=self.reduction)\n"
          ]
        }
      ]
    }
  ]
}